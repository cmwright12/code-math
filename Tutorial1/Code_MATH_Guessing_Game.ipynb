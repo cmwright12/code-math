{
  "nbformat": 4,
  "nbformat_minor": 0,
  "metadata": {
    "colab": {
      "name": "Code:MATH - Guessing Game",
      "provenance": [],
      "collapsed_sections": [],
      "toc_visible": true
    },
    "kernelspec": {
      "name": "python3",
      "display_name": "Python 3"
    },
    "language_info": {
      "name": "python"
    }
  },
  "cells": [
    {
      "cell_type": "markdown",
      "source": [
        "<font face=\"Courier New\" size=\"20px\" color=\"#92D050\">Code:MATH</font>"
      ],
      "metadata": {
        "id": "KVj7Op0VlCUd"
      }
    },
    {
      "cell_type": "markdown",
      "source": [
        "#Tutorial: The Guessing Game\n",
        "*Dr. Carmen Wright*  "
      ],
      "metadata": {
        "id": "C7cSXdqPlG5y"
      }
    },
    {
      "cell_type": "markdown",
      "source": [
        "<a title=\"Fantasy, CC BY-SA 3.0 &lt;http://creativecommons.org/licenses/by-sa/3.0/&gt;, via Wikimedia Commons\" href=\"https://commons.wikimedia.org/wiki/File:10-sided_dice_250.jpg\"><img width=\"128\" alt=\"10-sided dice 250\" src=\"https://upload.wikimedia.org/wikipedia/commons/b/bd/10-sided_dice_250.jpg\"></a>"
      ],
      "metadata": {
        "id": "TGQ_fNosY2o2"
      }
    },
    {
      "cell_type": "markdown",
      "source": [
        "The Goal: This project uses the random module in Python. The program will first randomly generate a number unknown to the user. The user needs to guess what that number is. (In other words, the user needs to be able to input information.) If the user’s guess is wrong, the program should return some sort of indication as to how wrong (e.g. The number is too high or too low). If the user guesses correctly, a positive indication should appear. You’ll need functions to check if the user input is an actual number, to see the difference between the inputted number and the randomly generated numbers, and to then compare the numbers."
      ],
      "metadata": {
        "id": "Gmc85xjBsGlP"
      }
    },
    {
      "cell_type": "markdown",
      "source": [
        "Let's play a simpler form of the game! We will just guess a number and the program will keep on going until when we guess correctly. Run the next cell by pressing the play button in the upper-left corner, or clicking in the cell and pressing Ctrl+Enter. A text field will appear below the block of code for you to type your input."
      ],
      "metadata": {
        "id": "_0iXBa9nlU1f"
      }
    },
    {
      "cell_type": "markdown",
      "source": [
        "#Game Code"
      ],
      "metadata": {
        "id": "Ixwv2L8PwM0W"
      }
    },
    {
      "cell_type": "code",
      "source": [
        "import random\n",
        "\n",
        "print(\"Can you guess the computer's number?\")\n",
        "computer_number = random.randrange(10)\n",
        "\n",
        "while True:\n",
        "    player_guess = input(\"Guess a number from 0 to 9: \")\n",
        "    player_guess = int(player_guess)\n",
        "\n",
        "    if player_guess == computer_number:\n",
        "        print(\"Yes! \" + str(computer_number) + \" is correct!\")\n",
        "        break"
      ],
      "metadata": {
        "colab": {
          "base_uri": "https://localhost:8080/"
        },
        "id": "1B9fRjWLme2-",
        "outputId": "6cbaf761-5a1a-469c-d70f-1129cf0092e0"
      },
      "execution_count": null,
      "outputs": [
        {
          "output_type": "stream",
          "name": "stdout",
          "text": [
            "Can you guess the computer's number?\n",
            "Guess a number from 0 to 9: 1\n",
            "Guess a number from 0 to 9: 2\n",
            "Guess a number from 0 to 9: 3\n",
            "Guess a number from 0 to 9: 4\n",
            "Guess a number from 0 to 9: 5\n",
            "Yes! 5 is correct!\n"
          ]
        }
      ]
    },
    {
      "cell_type": "markdown",
      "source": [
        "Go ahead and play (run the cell) several times - each time a random number will be generated again."
      ],
      "metadata": {
        "id": "WGKLkm73m1kz"
      }
    },
    {
      "cell_type": "markdown",
      "source": [
        "#Line Breakdown"
      ],
      "metadata": {
        "id": "cS-zv-7tnOA6"
      }
    },
    {
      "cell_type": "markdown",
      "source": [
        "##Line 1:  \n",
        "\n",
        "    import random\n",
        "\n",
        "There are some packages written by other people that already contain functions we want to use. We can import them with the name of the package. A Python **package** is a collection of related **modules**, and a **module** is a set of **functions** that can be imported into other programs.\n",
        "\n",
        "References:\n",
        "\n",
        "*   https://www.w3schools.com/python/module_random.asp\n",
        "*   https://docs.python.org/3/library/random.html\n",
        "\n",
        "\n",
        "\n",
        "\n",
        "\n"
      ],
      "metadata": {
        "id": "a6FrOb5-nUGG"
      }
    },
    {
      "cell_type": "markdown",
      "source": [
        "##Line 3:\n",
        "\n",
        "    print(\"Can you guess the computer's number?\")\n",
        "\n",
        "This `print` function has the string \"Can you guess the computer's number?\" as its input; it will output it to the screen. A Python **string** is a sequence of characters. It is contained between either single or double quotation marks."
      ],
      "metadata": {
        "id": "_5QRKU18qDyC"
      }
    },
    {
      "cell_type": "code",
      "source": [
        "type(\"Can you guess the computer's number?\")"
      ],
      "metadata": {
        "colab": {
          "base_uri": "https://localhost:8080/"
        },
        "id": "ggvzI1UwJWr6",
        "outputId": "18403fb4-e0a4-46c2-e227-16a68181a9ac"
      },
      "execution_count": null,
      "outputs": [
        {
          "output_type": "execute_result",
          "data": {
            "text/plain": [
              "str"
            ]
          },
          "metadata": {},
          "execution_count": 15
        }
      ]
    },
    {
      "cell_type": "code",
      "source": [
        "# Play: Print \"Hello World!\"\n"
      ],
      "metadata": {
        "id": "kzZT-0oUqQ1a"
      },
      "execution_count": null,
      "outputs": []
    },
    {
      "cell_type": "markdown",
      "source": [
        "Comments: Anything after a pound sign `#` is considered a **comment**, meaning it is not executed by the program, but it is there primarily for programmer readability. Comments are also useful for testing and debugging because you can comment out code instead of deleting it."
      ],
      "metadata": {
        "id": "0P9fPRdSyonk"
      }
    },
    {
      "cell_type": "markdown",
      "source": [
        "##Line 4:\n",
        "\n",
        "    computer_number = random.randrange(10)\n",
        "\n",
        "Here we use the function `randrange` from the `random` package; notice the period and the *package.function* syntax. The `randrange()` function returns a randomly selected element from a specified range from *start* (included) to *stop* (not included), incremented by *step*.    \n",
        "Syntax: `random.randrange(start, stop, step)`  \n",
        "By default, *start = 0* and *step = 1*.  \n",
        "For `random.randrange(10)`, *start = 0*, *step = 10* and *step = 1*, so a digit from 0 to 9 is randomly chosen."
      ],
      "metadata": {
        "id": "36o7rWRRqa5M"
      }
    },
    {
      "cell_type": "code",
      "source": [
        "# Play: Use different start, stop and step values\n",
        "print(random.randrange(7, 8, 1))"
      ],
      "metadata": {
        "colab": {
          "base_uri": "https://localhost:8080/"
        },
        "id": "iHCZv_tCtKxp",
        "outputId": "6e3dbcc7-2581-4205-a2cb-7c8349ef1c52"
      },
      "execution_count": null,
      "outputs": [
        {
          "output_type": "stream",
          "name": "stdout",
          "text": [
            "7\n"
          ]
        }
      ]
    },
    {
      "cell_type": "markdown",
      "source": [
        "Now that we know how to get a random number, it would be nice to store it somewhere because we will need to compare it to our guesses. A **variable** in a programming language is used to store data.\n",
        "\n",
        "Variable names can be more than one letter, and they can contain a number as long as it doesn't start with a number. In this line, we want to store the random number in a variable named `computer_number`. It is good practice to give a variable a descriptive name for what type of value it is storing. \n",
        "\n",
        "For example, if the output of the random function is 7, the line `computer_number = random.randrange(10)` assigns 7 to `computer_number`. Every variable has a **data type**. Python recognizes 7 an **integer**.\n",
        "\n",
        "\n",
        "|     variable    | value | data type |\n",
        "|:---------------:|:-----:|:---------:|\n",
        "| computer_number |   7   |    int    |"
      ],
      "metadata": {
        "id": "CWi53ShdwHAP"
      }
    },
    {
      "cell_type": "code",
      "source": [
        "type(computer_number)"
      ],
      "metadata": {
        "colab": {
          "base_uri": "https://localhost:8080/"
        },
        "id": "6b-aaw0COFCK",
        "outputId": "917ff6ad-8022-4f56-ec59-2a5b0afd0cab"
      },
      "execution_count": null,
      "outputs": [
        {
          "output_type": "execute_result",
          "data": {
            "text/plain": [
              "int"
            ]
          },
          "metadata": {},
          "execution_count": 8
        }
      ]
    },
    {
      "cell_type": "code",
      "source": [
        "# Playground: \n",
        "# Assign the year you were born to a variable (data type: integer) \n",
        "\n",
        "# Assign your first name to a variable (data type: string)\n",
        "\n"
      ],
      "metadata": {
        "id": "ep4QeWW_zpMV"
      },
      "execution_count": null,
      "outputs": []
    },
    {
      "cell_type": "markdown",
      "source": [
        "References:\n",
        "\n",
        "\n",
        "*   https://www.w3schools.com/python/python_datatypes.asp\n",
        "*   https://www.w3schools.com/python/python_numbers.asp \n",
        "*   https://docs.python.org/3/library/datatypes.html\n",
        "*   https://www.w3schools.com/python/python_variables.asp\n",
        "\n",
        "\n"
      ],
      "metadata": {
        "id": "P-alh32IPMFF"
      }
    },
    {
      "cell_type": "markdown",
      "source": [
        "##Line 6:\n",
        "\n",
        "    while True:\n",
        "    \n",
        "The keyword `while` indicates a type of loop. A Python **loop** runs a block of code until a condition is satisfied. There are `for` loops and `while` loops.\n",
        "\n",
        "A `for` loop can be written over any type of sequence. When you want a block of code to run a certain number of times, use a `for` loop. \n"
      ],
      "metadata": {
        "id": "HMXCWu8LL-WN"
      }
    },
    {
      "cell_type": "code",
      "source": [
        "# run a loop 4 times\n",
        "for i in range(4):\n",
        "    print('i =', i)"
      ],
      "metadata": {
        "colab": {
          "base_uri": "https://localhost:8080/"
        },
        "id": "GOgbr0qNJkso",
        "outputId": "76ac06ea-cda5-48e2-b917-0ce04b137afd"
      },
      "execution_count": null,
      "outputs": [
        {
          "output_type": "stream",
          "name": "stdout",
          "text": [
            "i = 0\n",
            "i = 1\n",
            "i = 2\n",
            "i = 3\n"
          ]
        }
      ]
    },
    {
      "cell_type": "markdown",
      "source": [
        "The `range` function is doing the counting for us.  \n",
        "Syntax: `range(start,stop,step)`  \n",
        "The parameters are similar to the `randrange` function we saw earlier where the default *start* value is 1, the default incremental *step* value 1, and it ends at *stop-1*."
      ],
      "metadata": {
        "id": "TzfPGMQ2eKZd"
      }
    },
    {
      "cell_type": "code",
      "source": [
        "range(4) == range(0,4,1)"
      ],
      "metadata": {
        "colab": {
          "base_uri": "https://localhost:8080/"
        },
        "id": "2YuQe4EteEH3",
        "outputId": "9512e8aa-f351-413f-a8bd-9ba05e941eb7"
      },
      "execution_count": null,
      "outputs": [
        {
          "output_type": "execute_result",
          "data": {
            "text/plain": [
              "True"
            ]
          },
          "metadata": {},
          "execution_count": 12
        }
      ]
    },
    {
      "cell_type": "code",
      "source": [
        "# Play: Run a for loop that prints five even numbers\n"
      ],
      "metadata": {
        "id": "f0X-WES3k3Gn"
      },
      "execution_count": null,
      "outputs": []
    },
    {
      "cell_type": "markdown",
      "source": [
        "On the other hand, a `while` loop is typically for when you want to a block of code to keep running until a certain condition is met but you don't know how many iterations it will take.\n",
        "\n",
        "Syntax: `while (condition):`  \n",
        "The condition should evaluate to `True` or `False`."
      ],
      "metadata": {
        "id": "JvWFrDyhkOY9"
      }
    },
    {
      "cell_type": "code",
      "source": [
        "# run until `i` is less than 4\n",
        "i = 0\n",
        "while i < 4:\n",
        "    print(i)\n",
        "    i = i + 1"
      ],
      "metadata": {
        "colab": {
          "base_uri": "https://localhost:8080/"
        },
        "id": "2kgmPkSwd2nk",
        "outputId": "06b6f56d-4a4c-445c-996e-a1c25d7fcf86"
      },
      "execution_count": null,
      "outputs": [
        {
          "output_type": "stream",
          "name": "stdout",
          "text": [
            "0\n",
            "1\n",
            "2\n",
            "3\n"
          ]
        }
      ]
    },
    {
      "cell_type": "markdown",
      "source": [
        "Beware of the infinite loop! The `while` loop does not increment for us. The line `i = i + 1` re-assigns `i` to its current value plus 1. \n",
        "\n",
        "We can also set up a `while` loop to run continuously until a certain condition is met, then we want to `break` out from the loop. This technique is used a lot in game scripts."
      ],
      "metadata": {
        "id": "S10M5wdBmp_e"
      }
    },
    {
      "cell_type": "code",
      "source": [
        "# run\n",
        "i = 0\n",
        "while True:\n",
        "    print('i = ', i)\n",
        "    if i >= 4:\n",
        "        print(\"break away!\")\n",
        "        break\n",
        "    i = i + 1\n",
        "    "
      ],
      "metadata": {
        "colab": {
          "base_uri": "https://localhost:8080/"
        },
        "id": "9w7NVAhvmaPr",
        "outputId": "a85bef3e-6568-47fa-a866-12c323dc4097"
      },
      "execution_count": null,
      "outputs": [
        {
          "output_type": "stream",
          "name": "stdout",
          "text": [
            "i =  0\n",
            "i =  1\n",
            "i =  2\n",
            "i =  3\n",
            "i =  4\n",
            "break away!\n"
          ]
        }
      ]
    },
    {
      "cell_type": "markdown",
      "source": [
        "Note: All comparison operators\n",
        "\n",
        "*   Equals: `==`\n",
        "*   Not equal: `!=`\n",
        "*   Greater/Less than: `>`, `<`\n",
        "*   Greater/Less than or equal to: `>=`, `<=`\n",
        "\n"
      ],
      "metadata": {
        "id": "B1kWghBkppxu"
      }
    },
    {
      "cell_type": "code",
      "source": [
        "# Play: Countdown starting at 3 and decrement by 1; when it gets to 0 print \"Blast Off!\" before breaking out of the loop\n"
      ],
      "metadata": {
        "id": "MBDaWd_ApCMt"
      },
      "execution_count": null,
      "outputs": []
    },
    {
      "cell_type": "markdown",
      "source": [
        "References:\n",
        "\n",
        "\n",
        "*   https://www.w3schools.com/python/python_while_loops.asp\n",
        "*   https://www.w3schools.com/python/python_for_loops.asp\n",
        "\n"
      ],
      "metadata": {
        "id": "yl8q7d0_Pxmu"
      }
    },
    {
      "cell_type": "markdown",
      "source": [
        "## Lines 6-8\n",
        "\n",
        "    while True:\n",
        "        player_guess = input(\"Guess a number from 0 to 9: \")\n",
        "        player_guess = int(player_guess)\n",
        "\n",
        "\n",
        "Indentation: First note that a block within a loop must always be indented (4 spaces). Python takes indentation very seriously.\n",
        "\n",
        "We can ask for the player's guess using the `input` function and store their guess in the variable `player_guess`. Run the cell below. For example, if your guess is 4, enter the number 4 in the text field and press hit Enter."
      ],
      "metadata": {
        "id": "RitCTuaDqZjS"
      }
    },
    {
      "cell_type": "code",
      "source": [
        "player_guess = input(\"Guess a number from 0 to 9: \")\n",
        "print(\"Player guessed \", player_guess)"
      ],
      "metadata": {
        "colab": {
          "base_uri": "https://localhost:8080/"
        },
        "id": "kZpIN8SkrUtk",
        "outputId": "1b5db866-721a-4b79-e370-32dbcc2f6d7b"
      },
      "execution_count": null,
      "outputs": [
        {
          "output_type": "stream",
          "name": "stdout",
          "text": [
            "Guess a number from 0 to 9: 4\n",
            "Player guessed  4\n"
          ]
        }
      ]
    },
    {
      "cell_type": "markdown",
      "source": [
        "Great! Now let's just test your guess against the computer's number pretending it was 7 for now."
      ],
      "metadata": {
        "id": "gjE-LBoQryqy"
      }
    },
    {
      "cell_type": "code",
      "source": [
        "computer_number = 7\n",
        "player_guess == computer_number"
      ],
      "metadata": {
        "colab": {
          "base_uri": "https://localhost:8080/"
        },
        "id": "ZR9O9Gtfr4E3",
        "outputId": "78a58be2-007e-4514-f5d3-e582493fdb51"
      },
      "execution_count": null,
      "outputs": [
        {
          "output_type": "execute_result",
          "data": {
            "text/plain": [
              "False"
            ]
          },
          "metadata": {},
          "execution_count": 56
        }
      ]
    },
    {
      "cell_type": "markdown",
      "source": [
        "Seems like you guessed wrong. The problem is, even if your guess was right, it would say `False`. What's going on?"
      ],
      "metadata": {
        "id": "M7K589gpqgw6"
      }
    },
    {
      "cell_type": "code",
      "source": [
        "# are they the same data type?\n",
        "print(7 == \"7\")\n",
        "type(player_guess) == type(computer_number)"
      ],
      "metadata": {
        "colab": {
          "base_uri": "https://localhost:8080/"
        },
        "id": "RYApahSMshhY",
        "outputId": "11fb7745-f217-4a7e-f3c1-56598255b792"
      },
      "execution_count": null,
      "outputs": [
        {
          "output_type": "stream",
          "name": "stdout",
          "text": [
            "False\n"
          ]
        },
        {
          "output_type": "execute_result",
          "data": {
            "text/plain": [
              "False"
            ]
          },
          "metadata": {},
          "execution_count": 57
        }
      ]
    },
    {
      "cell_type": "markdown",
      "source": [
        "|     variable    | value | data type |\n",
        "|:---------------:|:-----:|:---------:|\n",
        "| computer_number |   7   |    int    |\n",
        "| player_guess    |   4   |    str    |\n",
        "\n",
        "The fix: We need to cast the string `player_guess` as an integer using the `int` function, then compare it."
      ],
      "metadata": {
        "id": "3gt6v_u_tNQh"
      }
    },
    {
      "cell_type": "code",
      "source": [
        "7 == int(\"7\")"
      ],
      "metadata": {
        "colab": {
          "base_uri": "https://localhost:8080/"
        },
        "id": "MSSkLVV8t1pH",
        "outputId": "0dcef653-5bcb-4db2-d648-14a9cb428c03"
      },
      "execution_count": null,
      "outputs": [
        {
          "output_type": "execute_result",
          "data": {
            "text/plain": [
              "True"
            ]
          },
          "metadata": {},
          "execution_count": 38
        }
      ]
    },
    {
      "cell_type": "code",
      "source": [
        "player_guess = int(player_guess)\n",
        "player_guess == computer_number"
      ],
      "metadata": {
        "colab": {
          "base_uri": "https://localhost:8080/"
        },
        "id": "k8gUt1LltXU8",
        "outputId": "46c7a64a-7a85-4162-b424-1eee39db9586"
      },
      "execution_count": null,
      "outputs": [
        {
          "output_type": "execute_result",
          "data": {
            "text/plain": [
              "False"
            ]
          },
          "metadata": {},
          "execution_count": 58
        }
      ]
    },
    {
      "cell_type": "markdown",
      "source": [
        "|     variable    | value | data type |\n",
        "|:---------------:|:-----:|:---------:|\n",
        "| computer_number |   7   |    int    |\n",
        "| player_guess    |   4   |    int    |"
      ],
      "metadata": {
        "id": "Am0eZzbfv7VK"
      }
    },
    {
      "cell_type": "markdown",
      "source": [
        "## Lines 10-12:\n",
        "Still within the indented `while` block we are testing the player's guess:\n",
        "\n",
        "        if player_guess == computer_number:\n",
        "            print(\"Yes! \" + str(computer_number) + \" is correct!\")\n",
        "            break\n",
        "\n",
        "If the player guessed correctly, they won, game over. If the player guessed incorrectly they can guess again. We use an **if statement** to test a condition and decide what should happen next. The `if` statement only runs when the condition evaluates to `True`.  \n",
        "Syntax:  \n",
        "\n",
        "    if (condition):\n",
        "        (do this)\n",
        "\n",
        "In this case, if the player's guess is correct, send a congratulatory message and then break out of the loop to end the game.\n",
        "\n",
        "We want to print a message string that includes the correct number. Strings can be concatenated with the plus symbol `+`.\n",
        "\n"
      ],
      "metadata": {
        "id": "TsLt3wToucg3"
      }
    },
    {
      "cell_type": "code",
      "source": [
        "print(\"a\" + \"b\" + \"c\")"
      ],
      "metadata": {
        "colab": {
          "base_uri": "https://localhost:8080/"
        },
        "id": "3TDmsjTHyxIY",
        "outputId": "4af13236-d5df-4f33-f631-9175ceb80af3"
      },
      "execution_count": null,
      "outputs": [
        {
          "output_type": "stream",
          "name": "stdout",
          "text": [
            "abc\n"
          ]
        }
      ]
    },
    {
      "cell_type": "code",
      "source": [
        "# Play: Print out the concatenation of your first name and last name\n"
      ],
      "metadata": {
        "id": "6U0YPnOq1jt5"
      },
      "execution_count": null,
      "outputs": []
    },
    {
      "cell_type": "code",
      "source": [
        "print(\"Yes! \" + computer_number + \" is correct!\")"
      ],
      "metadata": {
        "colab": {
          "base_uri": "https://localhost:8080/",
          "height": 168
        },
        "id": "MFUa6EZGy6Qt",
        "outputId": "7e81663b-fdb1-4a2a-9d4a-e91ecd73edab"
      },
      "execution_count": null,
      "outputs": [
        {
          "output_type": "error",
          "ename": "TypeError",
          "evalue": "ignored",
          "traceback": [
            "\u001b[0;31m---------------------------------------------------------------------------\u001b[0m",
            "\u001b[0;31mTypeError\u001b[0m                                 Traceback (most recent call last)",
            "\u001b[0;32m<ipython-input-61-3eadb97bcf6e>\u001b[0m in \u001b[0;36m<module>\u001b[0;34m()\u001b[0m\n\u001b[0;32m----> 1\u001b[0;31m \u001b[0mprint\u001b[0m\u001b[0;34m(\u001b[0m\u001b[0;34m\"Yes! \"\u001b[0m \u001b[0;34m+\u001b[0m \u001b[0mcomputer_number\u001b[0m \u001b[0;34m+\u001b[0m \u001b[0;34m\" is correct!\"\u001b[0m\u001b[0;34m)\u001b[0m\u001b[0;34m\u001b[0m\u001b[0;34m\u001b[0m\u001b[0m\n\u001b[0m",
            "\u001b[0;31mTypeError\u001b[0m: can only concatenate str (not \"int\") to str"
          ]
        }
      ]
    },
    {
      "cell_type": "markdown",
      "source": [
        "Well, only strings can be concatenated, you can't mix and match with integers.  \n",
        "The fix: Cast `computer_number` as a string with the `str` function."
      ],
      "metadata": {
        "id": "XM11YkAKzBRe"
      }
    },
    {
      "cell_type": "code",
      "source": [
        "print(\"Yes! \" + str(computer_number) + \" is correct!\")"
      ],
      "metadata": {
        "colab": {
          "base_uri": "https://localhost:8080/"
        },
        "id": "479-Gd5_zOQ3",
        "outputId": "1d80d623-3a5a-439e-e6ed-e11d66c46220"
      },
      "execution_count": null,
      "outputs": [
        {
          "output_type": "stream",
          "name": "stdout",
          "text": [
            "Yes! 7 is correct!\n"
          ]
        }
      ]
    },
    {
      "cell_type": "markdown",
      "source": [
        "The next line within the `if` statement is `break`. It takes us out the loop and makes the game end."
      ],
      "metadata": {
        "id": "bFLHnk2FznEr"
      }
    },
    {
      "cell_type": "markdown",
      "source": [
        "## And the loop goes on...\n",
        "\n",
        "If we guessed incorrectly, we would have skipped over the `if` statement and kept running the loop: ask for user input, test if the guess was correct."
      ],
      "metadata": {
        "id": "-MOF6RC20L5t"
      }
    },
    {
      "cell_type": "code",
      "source": [
        "# Play: Write an if statement that prints the message \"Positive\" if the number x is positive\n",
        "# What happens when you change x to a negative number?\n",
        "x = 4\n"
      ],
      "metadata": {
        "id": "RHdBIG-_1v96"
      },
      "execution_count": null,
      "outputs": []
    },
    {
      "cell_type": "markdown",
      "source": [
        "Reference:\n",
        "\n",
        "\n",
        "*   https://www.w3schools.com/python/python_conditions.asp\n",
        "\n"
      ],
      "metadata": {
        "id": "Ik2AwXTY2x15"
      }
    },
    {
      "cell_type": "markdown",
      "source": [
        "# What We Learned\n",
        "Programming vocabulary: data types (e.g. integers, strings), variables, loops, if statements, packages"
      ],
      "metadata": {
        "id": "863CoOjKdT5F"
      }
    },
    {
      "cell_type": "markdown",
      "source": [
        "# Taking it Further\n",
        "\n",
        "*   Giving hints of whether the guess was too high or too low\n",
        "*   Changing the range of random numbers\n",
        "*   Counting the number of guesses\n",
        "*   Limiting the number of guesses  \n"
      ],
      "metadata": {
        "id": "y4eNEOxY1F7H"
      }
    },
    {
      "cell_type": "markdown",
      "source": [
        "## Too High/Too Low\n",
        "Let's give hints to the player. Think about when would we provide the player a hint and where that happens in the code. When we tested their guess, we just went back to the beginning of the loop if it was wrong. Now we are interested in more cases."
      ],
      "metadata": {
        "id": "uDLbZtWi4VWb"
      }
    },
    {
      "cell_type": "markdown",
      "source": [
        "We can use `elif` (abbreviation for else-if) for other cases in an `if` statement. To catch anything that doesn't satisfy the conditions, we can use `else`. We can have more than one `elif`. Make sure to indent."
      ],
      "metadata": {
        "id": "4nNyBfXY6Qfw"
      }
    },
    {
      "cell_type": "code",
      "source": [
        "t = 0.5\n",
        "if t >= 1:\n",
        "    print(t, \"in [1,oo)\")\n",
        "elif t <= 0:\n",
        "    print(t, \"in (-oo,0]\")\n",
        "else:\n",
        "    print(t, \"in (0,1)\")"
      ],
      "metadata": {
        "colab": {
          "base_uri": "https://localhost:8080/"
        },
        "id": "4_z3R7tY6yea",
        "outputId": "ee374b88-c938-4729-e105-1b7a5e86164d"
      },
      "execution_count": null,
      "outputs": [
        {
          "output_type": "stream",
          "name": "stdout",
          "text": [
            "0.5 in (0,1)\n"
          ]
        }
      ]
    },
    {
      "cell_type": "markdown",
      "source": [
        "Note that if a number is not greater than equal to 1, or is not less than or equal to 0, it MUST be between 0 and 1. We could state that condition explicitly."
      ],
      "metadata": {
        "id": "cImF4R_p8QBK"
      }
    },
    {
      "cell_type": "code",
      "source": [
        "t = 0.5\n",
        "if t >= 1:\n",
        "    print(t, \"in [1,oo)\")\n",
        "elif t <= 0:\n",
        "    print(t, \"in (-oo,0]\")\n",
        "elif t > 0 and t < 1:\n",
        "    print(t, \"in (0,1)\")"
      ],
      "metadata": {
        "colab": {
          "base_uri": "https://localhost:8080/"
        },
        "id": "wEUE8Kjl8J2Q",
        "outputId": "ddb3f0d8-9fbc-4f94-84b5-c647117b74af"
      },
      "execution_count": null,
      "outputs": [
        {
          "output_type": "stream",
          "name": "stdout",
          "text": [
            "0.5 in (0,1)\n"
          ]
        }
      ]
    },
    {
      "cell_type": "markdown",
      "source": [
        "Note the use of `and` in the third case.\n",
        "\n",
        "We can use logical operators:\n",
        "\n",
        "*  `not` changes to the opposite truth value\n",
        "*  `and` is true when all parts are true\n",
        "*  `or` is true when at least one part is true"
      ],
      "metadata": {
        "id": "4PoekexE8zHp"
      }
    },
    {
      "cell_type": "markdown",
      "source": [
        "Extend the `if` function you wrote previously to different cases. If `x` is positive, print \"Positive!\", if `x` is negative, print \"Negative!\", if `x` is 0, print \"It's 0!\"."
      ],
      "metadata": {
        "id": "Yytb86Rz9Mg-"
      }
    },
    {
      "cell_type": "code",
      "source": [
        "# Play:\n",
        "x = 4"
      ],
      "metadata": {
        "id": "m0R4UDkr9Ius"
      },
      "execution_count": null,
      "outputs": []
    },
    {
      "cell_type": "markdown",
      "source": [
        "Modified game with hints:"
      ],
      "metadata": {
        "id": "e9oBTqdt9uKU"
      }
    },
    {
      "cell_type": "code",
      "source": [
        "import random\n",
        "\n",
        "print(\"Can you guess the computer's number?\")\n",
        "computer_number = random.randrange(10)\n",
        "\n",
        "while True:\n",
        "    player_guess = input(\"Guess a number from 0 to 9: \")\n",
        "    player_guess = int(player_guess)\n",
        "\n",
        "    if player_guess == computer_number:\n",
        "        print(\"Yes! \" + str(computer_number) + \" is correct!\")\n",
        "        break\n",
        "    elif player_guess > computer_number:\n",
        "        print(\"Too high\")\n",
        "    else: #elif player_guess < computer_number:\n",
        "        print(\"Too low\")"
      ],
      "metadata": {
        "colab": {
          "base_uri": "https://localhost:8080/"
        },
        "id": "tA5Os_qi4brt",
        "outputId": "7c89394e-0a45-46cc-efd5-f13981bd9358"
      },
      "execution_count": null,
      "outputs": [
        {
          "output_type": "stream",
          "name": "stdout",
          "text": [
            "Can you guess the computer's number?\n",
            "Guess a number from 0 to 9: 6\n",
            "Too high\n",
            "Guess a number from 0 to 9: 4\n",
            "Yes! 4 is correct!\n"
          ]
        }
      ]
    },
    {
      "cell_type": "markdown",
      "source": [
        "Challenge: Create a variable `guesses` initialized at 0 and use it to keep track of the number of guesses the player has made. You can remind them of how many guess they've made.\n"
      ],
      "metadata": {
        "id": "PALf2QeU94KF"
      }
    },
    {
      "cell_type": "code",
      "source": [
        "import random\n",
        "\n",
        "print(\"Can you guess the computer's number?\")\n",
        "computer_number = random.randrange(10)\n",
        "guesses = 0\n",
        "while True:\n",
        "    player_guess = input(\"Guess a number from 0 to 9: \")\n",
        "    player_guess = int(player_guess)\n",
        "\n",
        "    if player_guess == computer_number:\n",
        "        print(\"Yes! \" + str(computer_number) + \" is correct!\")\n",
        "        break\n",
        "    elif player_guess > computer_number:\n",
        "        print(\"Too high\")\n",
        "    else:\n",
        "        print(\"Too low\")"
      ],
      "metadata": {
        "id": "-Q_rHrRd93jr"
      },
      "execution_count": null,
      "outputs": []
    },
    {
      "cell_type": "markdown",
      "source": [
        "Click here to see code that keeps track of the number of guesses and limits the number of guesses: https://py3.codeskulptor.org/#user307_at1pKRYCUX_2.py"
      ],
      "metadata": {
        "id": "90C1xFZA3nxK"
      }
    },
    {
      "cell_type": "markdown",
      "source": [
        "------------------\n",
        "\n",
        "This material has been adapted from: \n",
        "\n",
        "https://knightlab.northwestern.edu/2014/06/05/five-mini-programming-projects-for-the-python-beginner/"
      ],
      "metadata": {
        "id": "eLm1ibo96D97"
      }
    }
  ]
}