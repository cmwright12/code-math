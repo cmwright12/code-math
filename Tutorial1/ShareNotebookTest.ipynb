{
  "nbformat": 4,
  "nbformat_minor": 0,
  "metadata": {
    "colab": {
      "name": "ShareNotebookTest",
      "provenance": [],
      "collapsed_sections": []
    },
    "kernelspec": {
      "name": "python3",
      "display_name": "Python 3"
    },
    "language_info": {
      "name": "python"
    }
  },
  "cells": [
    {
      "cell_type": "markdown",
      "source": [
        "<font face=\"Courier New\" size=\"20px\" color=\"#92D050\">Code:MATH</font>\n",
        "\n",
        "Dr. Carmen Wright"
      ],
      "metadata": {
        "id": "hhKUe7PWK9UQ"
      }
    },
    {
      "cell_type": "code",
      "source": [
        "2 + 2"
      ],
      "metadata": {
        "colab": {
          "base_uri": "https://localhost:8080/"
        },
        "id": "lBzLeJSGK6zh",
        "outputId": "bebf9c7a-0c2a-40ff-f360-264be79cceb8"
      },
      "execution_count": 1,
      "outputs": [
        {
          "output_type": "execute_result",
          "data": {
            "text/plain": [
              "4"
            ]
          },
          "metadata": {},
          "execution_count": 1
        }
      ]
    }
  ]
}