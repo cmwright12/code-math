{
  "nbformat": 4,
  "nbformat_minor": 0,
  "metadata": {
    "colab": {
      "name": "ShareNotebookTest",
      "provenance": [],
      "collapsed_sections": []
    },
    "kernelspec": {
      "name": "python3",
      "display_name": "Python 3"
    },
    "language_info": {
      "name": "python"
    }
  },
  "cells": [
    {
      "cell_type": "markdown",
      "source": [
        "<font face=\"Courier New\" size=\"20px\" color=\"#92D050\">Code:MATH</font>\n",
        "\n",
        "Dr. Carmen Wright"
      ],
      "metadata": {
        "id": "hhKUe7PWK9UQ"
      }
    },
    {
      "cell_type": "code",
      "source": [
        "2 + 2"
      ],
      "metadata": {
        "id": "lBzLeJSGK6zh"
      },
      "execution_count": null,
      "outputs": []
    },
    {
      "cell_type": "code",
      "source": [
        "10 + (3**2)"
      ],
      "metadata": {
        "id": "rpHBlOq4MlhM"
      },
      "execution_count": null,
      "outputs": []
    },
    {
      "cell_type": "code",
      "source": [
        "# play\n"
      ],
      "metadata": {
        "id": "Cv5F4Jq4MrUa"
      },
      "execution_count": null,
      "outputs": []
    }
  ]
}